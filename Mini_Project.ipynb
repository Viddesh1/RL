{
 "cells": [
  {
   "cell_type": "code",
   "execution_count": 5,
   "metadata": {},
   "outputs": [
    {
     "name": "stdout",
     "output_type": "stream",
     "text": [
      "Python Version:  3.11.2\n",
      "Numpy Version:  1.23.5\n",
      "Gym Version:  0.24.0\n",
      "Pygame Version:  2.3.0\n"
     ]
    }
   ],
   "source": [
    "# Importing the necessary libraries.\n",
    "\n",
    "import numpy as np # For fast numeric / linear algebra computation.\n",
    "import time        # For controling time of execution.  \n",
    "import pickle      # For storing updated Q-table.\n",
    "import gym         # For working with open AI frozen lake v1 environment and utilities.\n",
    "import pygame      # For rendering the game and gym dependencies.\n",
    "\n",
    "from platform import python_version\n",
    "print(\"Python Version: \", python_version())\n",
    "print(\"Numpy Version: \", np.__version__)\n",
    "print(\"Gym Version: \", gym.__version__)\n",
    "print(\"Pygame Version: \", pygame.__version__)"
   ]
  },
  {
   "cell_type": "code",
   "execution_count": 4,
   "metadata": {},
   "outputs": [],
   "source": [
    "# Hyper-Parameters\n",
    "\n",
    "total_episodes = 10000 # Total number of iterations or episodes of training.\n",
    "\n",
    "# A higher value of epsilon encourages more exploration, while a lower value of epsilon favors exploitation.\n",
    "epsilon = 0.9 # For epsilon-gready policy, Positive real number (0 < epsilon < 1)\n",
    "\n",
    "max_steps = 100 # Maximum number of steps that agent can take in environment\n",
    "\n",
    "lr_rate = 0.81 # Learning Rate of convergence to global minimum\n",
    "\n",
    "# A high discount factor means that future rewards are highly valued, while a \n",
    "# low discount factor means that immediate rewards are given greater weight\n",
    "gamma = 0.96 # Discount Factor, Positive real number (0 < gamma < 1)"
   ]
  },
  {
   "cell_type": "code",
   "execution_count": 8,
   "metadata": {},
   "outputs": [],
   "source": [
    "# creating environment using gym package.\n",
    "# Default parameters:- gym.make('FrozenLake-v1', desc=None, map_name=\"4x4\", is_slippery=True)\n",
    "# For more information:- https://www.gymlibrary.dev/environments/toy_text/frozen_lake/\n",
    "\n",
    "env = gym.make(\"FrozenLake-v1\") # Using FrozenLake-v1. Since FrozenLake-v0 is depricated."
   ]
  },
  {
   "cell_type": "code",
   "execution_count": 10,
   "metadata": {},
   "outputs": [
    {
     "name": "stdout",
     "output_type": "stream",
     "text": [
      "Number of observation states:-  16\n",
      "Number of action space :-  4\n"
     ]
    }
   ],
   "source": [
    "print(\"Number of observation states:- \", env.observation_space.n)\n",
    "print(\"Number of action space :- \", env.action_space.n)"
   ]
  },
  {
   "cell_type": "code",
   "execution_count": 11,
   "metadata": {},
   "outputs": [
    {
     "data": {
      "text/plain": [
       "array([[0., 0., 0., 0.],\n",
       "       [0., 0., 0., 0.],\n",
       "       [0., 0., 0., 0.],\n",
       "       [0., 0., 0., 0.],\n",
       "       [0., 0., 0., 0.],\n",
       "       [0., 0., 0., 0.],\n",
       "       [0., 0., 0., 0.],\n",
       "       [0., 0., 0., 0.],\n",
       "       [0., 0., 0., 0.],\n",
       "       [0., 0., 0., 0.],\n",
       "       [0., 0., 0., 0.],\n",
       "       [0., 0., 0., 0.],\n",
       "       [0., 0., 0., 0.],\n",
       "       [0., 0., 0., 0.],\n",
       "       [0., 0., 0., 0.],\n",
       "       [0., 0., 0., 0.]])"
      ]
     },
     "execution_count": 11,
     "metadata": {},
     "output_type": "execute_result"
    }
   ],
   "source": [
    "# Initializing the Q-table with zeros for 2-D array of (observation_space, action_space).\n",
    "\n",
    "Q = np.zeros((env.observation_space.n, env.action_space.n))\n",
    "Q"
   ]
  },
  {
   "cell_type": "code",
   "execution_count": null,
   "metadata": {},
   "outputs": [],
   "source": [
    "def choose_action(state):\n",
    "    \"\"\" \n",
    "    The choose_action() function used a Epsilon-Gready policy for Exploration and Exploitation.\n",
    "    \n",
    "    Exploration is done when uniform random number from 0 to 1 is less than epsilon value.\n",
    "    Else, Maximum value of the state and action pair is taken which is Exploitation.\n",
    "\n",
    "    Args:\n",
    "        state (int): Gets the current state as parameter/\n",
    "\n",
    "    Returns:\n",
    "        int: Returns action to be taken in that state\n",
    "    \"\"\"\n",
    "    action=0\n",
    "    if np.random.uniform(0, 1) < epsilon: # Epsilon-Gready policy\n",
    "        action = env.action_space.sample() # Exploration, Random action sample space\n",
    "    else:\n",
    "        action = np.argmax(Q[state, :]) # Exploitation, Maximum value is taken from (State, Action)\n",
    "    return action"
   ]
  },
  {
   "cell_type": "code",
   "execution_count": 17,
   "metadata": {},
   "outputs": [
    {
     "data": {
      "image/png": "[encoded data removed]",
      "text/plain": [
       "<IPython.core.display.Image object>"
      ]
     },
     "execution_count": 17,
     "metadata": {},
     "output_type": "execute_result"
    }
   ],
   "source": [
    "from IPython.display import Image\n",
    "\n",
    "\n",
    "Image(filename='Q-Formula.png') "
   ]
  },
  {
   "cell_type": "code",
   "execution_count": null,
   "metadata": {},
   "outputs": [],
   "source": [
    "def learn(state, state2, reward, action):\n",
    "    \"\"\" \n",
    "    Updates the Q-table.\n",
    "    Agent learn to find a optimal policy by using bellman optimality equation.\n",
    "\n",
    "    Args:\n",
    "        state (int): Current state\n",
    "        state2 (int): Future state\n",
    "        reward (int): Reward if rached to goal state\n",
    "        action (int): action states\n",
    "    \"\"\"\n",
    "    predict = Q[state, action]\n",
    "    target = reward + gamma * np.max(Q[state2, :])\n",
    "    Q[state, action] = Q[state, action] + lr_rate * (target - predict)"
   ]
  },
  {
   "cell_type": "code",
   "execution_count": null,
   "metadata": {},
   "outputs": [],
   "source": [
    "# Start with Reinforment Learning\n",
    "for episode in range(total_episodes):\n",
    "    state = env.reset() # Resetting the environment\n",
    "    t = 0\n",
    "    \n",
    "    while t < max_steps:\n",
    "        env.render() # Rendering the frozen-lake environment\n",
    "\n",
    "        action = choose_action(state)  # Taking action\n",
    "        # Returns new_state, reward after taking a action, done (boolean) whether reached to goal or not, information\n",
    "        state2, reward, done, info = env.step(action)  \n",
    "\n",
    "        learn(state, state2, reward, action) # Agent learns Q-table policy\n",
    "\n",
    "        state = state2 # Setting state to new state \n",
    "\n",
    "        t += 1\n",
    "       \n",
    "        if done: # If goal state is reached then true and loop breaks\n",
    "            break\n",
    "\n",
    "        time.sleep(0.1)"
   ]
  },
  {
   "cell_type": "code",
   "execution_count": null,
   "metadata": {},
   "outputs": [],
   "source": [
    "# Dumping the Q-table in pickle file for easy loading when needed.\n",
    "\n",
    "with open(\"frozenLake_qTable.pkl\", 'wb') as f:\n",
    "    pickle.dump(Q, f)"
   ]
  },
  {
   "cell_type": "code",
   "execution_count": null,
   "metadata": {},
   "outputs": [],
   "source": [
    "# Q-Table Representation\n",
    "\n",
    "# Q = [[0.61328675 0.58403178 0.59475622 0.60545697]\n",
    "#  [0.56521894 0.11293677 0.50370929 0.60326189]\n",
    "#  [0.59057488 0.58249108 0.57499097 0.59089953]\n",
    "#  [0.57255264 0.01738344 0.57441336 0.59935962]\n",
    "#  [0.62387633 0.5546865  0.71629256 0.11403143]\n",
    "#  [0.         0.         0.         0.        ]\n",
    "#  [0.64606929 0.71730524 0.73581135 0.11986364]\n",
    "#  [0.         0.         0.         0.        ]\n",
    "#  [0.61203901 0.70121817 0.69993882 0.79860727]\n",
    "#  [0.1464226  0.87045385 0.16544007 0.13804508]\n",
    "#  [0.91957935 0.91595476 0.57216828 0.68562543]\n",
    "#  [0.         0.         0.         0.        ]\n",
    "#  [0.         0.         0.         0.        ]\n",
    "#  [0.81536073 0.03436849 0.87831349 0.70812791]\n",
    "#  [0.95772482 0.88879209 0.92707794 0.99582979]\n",
    "#  [0.         0.         0.         0.        ]]"
   ]
  },
  {
   "cell_type": "code",
   "execution_count": 6,
   "metadata": {},
   "outputs": [
    {
     "name": "stdout",
     "output_type": "stream",
     "text": [
      "*** Episode:  0\n",
      "*** Episode:  1\n",
      "*** Episode:  2\n",
      "*** Episode:  3\n",
      "*** Episode:  4\n"
     ]
    }
   ],
   "source": [
    "import os\n",
    "\n",
    "env = gym.make('FrozenLake-v1') # Create an instance of the FrozenLake-v1 environment\n",
    "\n",
    "# Un-pickling the pickle file using load() function. To convert from pickle to python object.\n",
    "with open(\"frozenLake_qTable.pkl\", 'rb') as f: \n",
    "\tQ = pickle.load(f)\n",
    "\n",
    "# Choosing the maximum value from the state and action\n",
    "def choose_action(state):\n",
    "\taction = np.argmax(Q[state, :])\n",
    "\treturn action\n",
    "\n",
    "# Rendering the environment and choosing the best action based on policy\n",
    "for episode in range(5):\n",
    "\n",
    "\tstate = env.reset()\n",
    "\tprint(\"*** Episode: \", episode)\n",
    "\tt = 0\n",
    "\twhile t < 100:\n",
    "\t\tenv.render() # Resetting the environment\n",
    "\n",
    "\t\taction = choose_action(state)  \n",
    "\t\t\n",
    "\t\tstate2, reward, done, info = env.step(action)  \n",
    "\t\t\n",
    "\t\tstate = state2\n",
    "\n",
    "\t\tif done:\n",
    "\t\t\tbreak\n",
    "\n",
    "\t\ttime.sleep(0.5)\n",
    "\t\tos.system('clear')\n",
    "\n",
    "pygame.quit() # Closing the pygame window."
   ]
  }
 ],
 "metadata": {
  "kernelspec": {
   "display_name": "Python 3",
   "language": "python",
   "name": "python3"
  },
  "language_info": {
   "codemirror_mode": {
    "name": "ipython",
    "version": 3
   },
   "file_extension": ".py",
   "mimetype": "text/x-python",
   "name": "python",
   "nbconvert_exporter": "python",
   "pygments_lexer": "ipython3",
   "version": "3.11.2"
  },
  "orig_nbformat": 4
 },
 "nbformat": 4,
 "nbformat_minor": 2
}
